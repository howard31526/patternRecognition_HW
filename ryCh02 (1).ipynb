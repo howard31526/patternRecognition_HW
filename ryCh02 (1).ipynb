{
  "cells": [
    {
      "cell_type": "markdown",
      "id": "4023bfc6-22aa-4545-8c19-48b4ae101a3b",
      "metadata": {
        "id": "4023bfc6-22aa-4545-8c19-48b4ae101a3b"
      },
      "source": [
        "# 長庚大學 資工系樣形識別  Ch02練習"
      ]
    },
    {
      "cell_type": "code",
      "execution_count": 1,
      "id": "fe262b16-1ad9-4057-8abf-188f9f0ed3dc",
      "metadata": {
        "id": "fe262b16-1ad9-4057-8abf-188f9f0ed3dc"
      },
      "outputs": [],
      "source": [
        "import numpy as np\n",
        "import tensorflow as tf\n",
        "import tensorflow.keras as keras"
      ]
    },
    {
      "cell_type": "code",
      "execution_count": 2,
      "id": "c5f9aa07-85d8-47f3-a8a9-edd2264ea3fb",
      "metadata": {
        "colab": {
          "base_uri": "https://localhost:8080/",
          "height": 0
        },
        "id": "c5f9aa07-85d8-47f3-a8a9-edd2264ea3fb",
        "outputId": "8778a8d6-4d5b-4742-91b7-8937d40a320f"
      },
      "outputs": [
        {
          "output_type": "stream",
          "name": "stdout",
          "text": [
            "Downloading data from https://storage.googleapis.com/tensorflow/tf-keras-datasets/mnist.npz\n",
            "11493376/11490434 [==============================] - 0s 0us/step\n",
            "11501568/11490434 [==============================] - 0s 0us/step\n"
          ]
        }
      ],
      "source": [
        "(xr,yr), (xt,yt)= keras.datasets.mnist.load_data()"
      ]
    },
    {
      "cell_type": "code",
      "execution_count": 3,
      "id": "8c5713fc-00c8-4659-8831-21ba3832f17e",
      "metadata": {
        "colab": {
          "base_uri": "https://localhost:8080/",
          "height": 0
        },
        "id": "8c5713fc-00c8-4659-8831-21ba3832f17e",
        "outputId": "af438d17-3df7-4e36-ae1d-ce542a0f73e0"
      },
      "outputs": [
        {
          "output_type": "execute_result",
          "data": {
            "text/plain": [
              "((60000, 28, 28), (60000,), (10000, 28, 28), (10000,))"
            ]
          },
          "metadata": {},
          "execution_count": 3
        }
      ],
      "source": [
        "xr.shape, yr.shape, xt.shape, yt.shape"
      ]
    },
    {
      "cell_type": "code",
      "execution_count": 5,
      "id": "66533075-600c-49d1-9a29-4f3e5d8d7b03",
      "metadata": {
        "colab": {
          "base_uri": "https://localhost:8080/",
          "height": 0
        },
        "id": "66533075-600c-49d1-9a29-4f3e5d8d7b03",
        "outputId": "5cb5c2b0-562b-44d6-b62f-52cb154d1b60"
      },
      "outputs": [
        {
          "output_type": "stream",
          "name": "stdout",
          "text": [
            "   0   0   0   0   0   0   0   0   0   0   0   0   0   0   0   0   0   0   0   0\n",
            "   0   0   0   0   0   0   0   0   0   0   0   0   0   0   0   0   0   0   0   0\n",
            "   0   0   0   0   0   0   0   0   0   0   0   0   0   0   0   0   0   0   0   0\n",
            "   0   0   0   0   0   0   0   0   0   0   0   0   0   0   0   0   0   0   0   0\n",
            "   0   0   0   0   0   0   0   0   0   0   0   0   0   0   0   0   0   0   0   0\n",
            "   0   0   0   0   0   0   0   0   0   0   0   0   3  18  18  18 126 136 175  26\n",
            "   0   0   0   0   0   0   0   0  30  36  94 154 170 253 253 253 253 253 225 172\n",
            "   0   0   0   0   0   0   0  49 238 253 253 253 253 253 253 253 253 251  93  82\n",
            "   0   0   0   0   0   0   0  18 219 253 253 253 253 253 198 182 247 241   0   0\n",
            "   0   0   0   0   0   0   0   0  80 156 107 253 253 205  11   0  43 154   0   0\n",
            "   0   0   0   0   0   0   0   0   0  14   1 154 253  90   0   0   0   0   0   0\n",
            "   0   0   0   0   0   0   0   0   0   0   0 139 253 190   2   0   0   0   0   0\n",
            "   0   0   0   0   0   0   0   0   0   0   0  11 190 253  70   0   0   0   0   0\n",
            "   0   0   0   0   0   0   0   0   0   0   0   0  35 241 225 160 108   1   0   0\n",
            "   0   0   0   0   0   0   0   0   0   0   0   0   0  81 240 253 253 119  25   0\n",
            "   0   0   0   0   0   0   0   0   0   0   0   0   0   0  45 186 253 253 150  27\n",
            "   0   0   0   0   0   0   0   0   0   0   0   0   0   0   0  16  93 252 253 187\n",
            "   0   0   0   0   0   0   0   0   0   0   0   0   0   0   0   0   0 249 253 249\n",
            "   0   0   0   0   0   0   0   0   0   0   0   0   0   0  46 130 183 253 253 207\n",
            "   0   0   0   0   0   0   0   0   0   0   0   0  39 148 229 253 253 253 250 182\n"
          ]
        }
      ],
      "source": [
        "x= xr[0]\n",
        "#%%\n",
        "for i in range(20):\n",
        "    for j in range(20):\n",
        "        z= x[i,j]\n",
        "        print(f'{z:4d}', end='')\n",
        "    print()"
      ]
    },
    {
      "cell_type": "code",
      "execution_count": 6,
      "id": "0c746e80-cd34-424c-b622-010923ce355a",
      "metadata": {
        "colab": {
          "base_uri": "https://localhost:8080/",
          "height": 282
        },
        "id": "0c746e80-cd34-424c-b622-010923ce355a",
        "outputId": "ebcaca28-326d-4e10-d131-f346eabbb509"
      },
      "outputs": [
        {
          "output_type": "execute_result",
          "data": {
            "text/plain": [
              "<matplotlib.image.AxesImage at 0x7f360e05af50>"
            ]
          },
          "metadata": {},
          "execution_count": 6
        },
        {
          "output_type": "display_data",
          "data": {
            "text/plain": [
              "<Figure size 432x288 with 1 Axes>"
            ],
            "image/png": "[encoded data removed]"
          },
          "metadata": {
            "needs_background": "light"
          }
        }
      ],
      "source": [
        "import matplotlib.pyplot as pl\n",
        "pl.imshow(x)"
      ]
    },
    {
      "cell_type": "code",
      "execution_count": 8,
      "id": "ff90b2c5-df90-456c-aa2d-358a8e892c16",
      "metadata": {
        "colab": {
          "base_uri": "https://localhost:8080/",
          "height": 132
        },
        "id": "ff90b2c5-df90-456c-aa2d-358a8e892c16",
        "outputId": "7b422aab-f994-4b75-fd7d-640190829785"
      },
      "outputs": [
        {
          "output_type": "error",
          "ename": "SyntaxError",
          "evalue": "ignored",
          "traceback": [
            "\u001b[0;36m  File \u001b[0;32m\"<fstring>\"\u001b[0;36m, line \u001b[0;32m1\u001b[0m\n\u001b[0;31m    (y= )\u001b[0m\n\u001b[0m      ^\u001b[0m\n\u001b[0;31mSyntaxError\u001b[0m\u001b[0;31m:\u001b[0m invalid syntax\n"
          ]
        }
      ],
      "source": [
        "y= yr[0]\n",
        "print(f'{y= }')"
      ]
    },
    {
      "cell_type": "code",
      "execution_count": null,
      "id": "063eac0e-84ee-4c81-8b81-df98d98ce392",
      "metadata": {
        "id": "063eac0e-84ee-4c81-8b81-df98d98ce392"
      },
      "outputs": [],
      "source": []
    },
    {
      "cell_type": "code",
      "execution_count": null,
      "id": "7ad94416-53ca-4b00-96b6-936e8fe43f25",
      "metadata": {
        "id": "7ad94416-53ca-4b00-96b6-936e8fe43f25"
      },
      "outputs": [],
      "source": [
        "xr1= xr.reshape(-1, 28*28) \n",
        "xt1= xt.reshape(-1, 28*28) "
      ]
    },
    {
      "cell_type": "code",
      "execution_count": null,
      "id": "5c3bc9ff-8e3c-47ce-9061-ebf2f147c207",
      "metadata": {
        "id": "5c3bc9ff-8e3c-47ce-9061-ebf2f147c207"
      },
      "outputs": [],
      "source": [
        "aModel= keras.Sequential([\n",
        "    keras.Input(28*28),\n",
        "    keras.layers.Dense(100),    \n",
        "    keras.layers.Dense(10)   \n",
        "    ])\n",
        "\n",
        "aModel.compile(\n",
        "    loss=     'sparse_categorical_crossentropy',\n",
        "    metrics= ['accuracy']\n",
        "    )"
      ]
    },
    {
      "cell_type": "code",
      "execution_count": 9,
      "id": "089bbcac-dbda-45ce-bd12-6b5608bb8904",
      "metadata": {
        "colab": {
          "base_uri": "https://localhost:8080/",
          "height": 237
        },
        "id": "089bbcac-dbda-45ce-bd12-6b5608bb8904",
        "outputId": "229d67a9-e2fa-4a27-e148-9cb7f321b3e7"
      },
      "outputs": [
        {
          "output_type": "error",
          "ename": "NameError",
          "evalue": "ignored",
          "traceback": [
            "\u001b[0;31m---------------------------------------------------------------------------\u001b[0m",
            "\u001b[0;31mNameError\u001b[0m                                 Traceback (most recent call last)",
            "\u001b[0;32m<ipython-input-9-916366cca029>\u001b[0m in \u001b[0;36m<module>\u001b[0;34m\u001b[0m\n\u001b[0;32m----> 1\u001b[0;31m \u001b[0maModel\u001b[0m\u001b[0;34m.\u001b[0m\u001b[0msummary\u001b[0m\u001b[0;34m(\u001b[0m\u001b[0;34m)\u001b[0m\u001b[0;34m\u001b[0m\u001b[0;34m\u001b[0m\u001b[0m\n\u001b[0m\u001b[1;32m      2\u001b[0m \u001b[0;34m\u001b[0m\u001b[0m\n\u001b[1;32m      3\u001b[0m keras.utils.plot_model(aModel, \n\u001b[1;32m      4\u001b[0m     \u001b[0mshow_shapes\u001b[0m\u001b[0;34m=\u001b[0m \u001b[0;32mTrue\u001b[0m\u001b[0;34m,\u001b[0m\u001b[0;34m\u001b[0m\u001b[0;34m\u001b[0m\u001b[0m\n\u001b[1;32m      5\u001b[0m     show_layer_activations= True)\n",
            "\u001b[0;31mNameError\u001b[0m: name 'aModel' is not defined"
          ]
        }
      ],
      "source": [
        "aModel.summary()\n",
        "\n",
        "keras.utils.plot_model(aModel, \n",
        "    show_shapes= True, \n",
        "    show_layer_activations= True)"
      ]
    },
    {
      "cell_type": "code",
      "execution_count": null,
      "id": "ecfe3ee7-4dfd-4a9c-ad70-42c1916ee5ba",
      "metadata": {
        "id": "ecfe3ee7-4dfd-4a9c-ad70-42c1916ee5ba",
        "outputId": "611ae366-7d4c-4b94-d84c-aef9ac7a3f86"
      },
      "outputs": [
        {
          "name": "stdout",
          "output_type": "stream",
          "text": [
            "Epoch 1/10\n",
            "600/600 [==============================] - 2s 2ms/step - loss: 2.6652 - accuracy: 0.1506\n",
            "Epoch 2/10\n",
            "600/600 [==============================] - 2s 3ms/step - loss: 2.3112 - accuracy: 0.1621\n",
            "Epoch 3/10\n",
            "600/600 [==============================] - 2s 3ms/step - loss: 2.3155 - accuracy: 0.1769\n",
            "Epoch 4/10\n",
            "600/600 [==============================] - 2s 3ms/step - loss: 2.2999 - accuracy: 0.1780\n",
            "Epoch 5/10\n",
            "600/600 [==============================] - 2s 3ms/step - loss: 2.3012 - accuracy: 0.1767\n",
            "Epoch 6/10\n",
            "600/600 [==============================] - 2s 3ms/step - loss: 2.3012 - accuracy: 0.1767\n",
            "Epoch 7/10\n",
            "600/600 [==============================] - 2s 3ms/step - loss: 2.3012 - accuracy: 0.1767\n",
            "Epoch 8/10\n",
            "600/600 [==============================] - 2s 3ms/step - loss: 2.3012 - accuracy: 0.1767\n",
            "Epoch 9/10\n",
            "600/600 [==============================] - 2s 4ms/step - loss: 2.3012 - accuracy: 0.1767\n",
            "Epoch 10/10\n",
            "600/600 [==============================] - 2s 3ms/step - loss: 2.3012 - accuracy: 0.1767\n",
            "313/313 [==============================] - 1s 2ms/step - loss: 2.3042 - accuracy: 0.1897\n"
          ]
        },
        {
          "data": {
            "text/plain": [
              "[2.3042027950286865, 0.18970000743865967]"
            ]
          },
          "execution_count": 10,
          "metadata": {},
          "output_type": "execute_result"
        }
      ],
      "source": [
        "aModel.fit(xr1, yr, \n",
        "           epochs= 10, \n",
        "           batch_size= 100)\n",
        "\n",
        "aModel.evaluate(xt1, yt)"
      ]
    },
    {
      "cell_type": "code",
      "execution_count": 12,
      "id": "660230a5-6afe-45c7-b698-7c7d9054e4c5",
      "metadata": {
        "colab": {
          "base_uri": "https://localhost:8080/",
          "height": 237
        },
        "id": "660230a5-6afe-45c7-b698-7c7d9054e4c5",
        "outputId": "35736fd5-4704-4e5a-edbf-b6fc744b1973"
      },
      "outputs": [
        {
          "output_type": "error",
          "ename": "NameError",
          "evalue": "ignored",
          "traceback": [
            "\u001b[0;31m---------------------------------------------------------------------------\u001b[0m",
            "\u001b[0;31mNameError\u001b[0m                                 Traceback (most recent call last)",
            "\u001b[0;32m<ipython-input-12-d87a7585e033>\u001b[0m in \u001b[0;36m<module>\u001b[0;34m\u001b[0m\n\u001b[1;32m     10\u001b[0m     )\n\u001b[1;32m     11\u001b[0m \u001b[0;34m\u001b[0m\u001b[0m\n\u001b[0;32m---> 12\u001b[0;31m aModel.fit(xr1, yr, \n\u001b[0m\u001b[1;32m     13\u001b[0m            \u001b[0mepochs\u001b[0m\u001b[0;34m=\u001b[0m \u001b[0;36m10\u001b[0m\u001b[0;34m,\u001b[0m\u001b[0;34m\u001b[0m\u001b[0;34m\u001b[0m\u001b[0m\n\u001b[1;32m     14\u001b[0m            batch_size= 100)\n",
            "\u001b[0;31mNameError\u001b[0m: name 'xr1' is not defined"
          ]
        }
      ],
      "source": [
        "\n",
        "aModel= keras.Sequential([\n",
        "    keras.Input(28*28),\n",
        "    keras.layers.Dense(100, activation= 'sigmoid'),    \n",
        "    keras.layers.Dense(10)   \n",
        "    ])\n",
        "\n",
        "aModel.compile(\n",
        "    loss=     'sparse_categorical_crossentropy',\n",
        "    metrics= ['accuracy']\n",
        "    )\n",
        "\n",
        "aModel.fit(xr1, yr, \n",
        "           epochs= 10, \n",
        "           batch_size= 100)\n",
        "\n",
        "aModel.evaluate(xt1, yt)"
      ]
    },
    {
      "cell_type": "code",
      "execution_count": null,
      "id": "97b0333d-21ee-4392-911d-24d462fe67fd",
      "metadata": {
        "id": "97b0333d-21ee-4392-911d-24d462fe67fd",
        "outputId": "72d83f8c-f21e-4c7c-f79b-ddbbd7c7488e"
      },
      "outputs": [
        {
          "name": "stdout",
          "output_type": "stream",
          "text": [
            "Epoch 1/10\n",
            "600/600 [==============================] - 2s 3ms/step - loss: 0.5675 - accuracy: 0.8473\n",
            "Epoch 2/10\n",
            "600/600 [==============================] - 2s 3ms/step - loss: 0.2982 - accuracy: 0.9104\n",
            "Epoch 3/10\n",
            "600/600 [==============================] - 2s 3ms/step - loss: 0.2591 - accuracy: 0.9219\n",
            "Epoch 4/10\n",
            "600/600 [==============================] - 2s 3ms/step - loss: 0.2347 - accuracy: 0.9291\n",
            "Epoch 5/10\n",
            "600/600 [==============================] - 2s 3ms/step - loss: 0.2218 - accuracy: 0.9338\n",
            "Epoch 6/10\n",
            "600/600 [==============================] - 2s 3ms/step - loss: 0.2125 - accuracy: 0.9359\n",
            "Epoch 7/10\n",
            "600/600 [==============================] - 2s 3ms/step - loss: 0.2011 - accuracy: 0.9399\n",
            "Epoch 8/10\n",
            "600/600 [==============================] - 2s 3ms/step - loss: 0.1956 - accuracy: 0.9411\n",
            "Epoch 9/10\n",
            "600/600 [==============================] - 2s 3ms/step - loss: 0.1905 - accuracy: 0.9429\n",
            "Epoch 10/10\n",
            "600/600 [==============================] - 2s 3ms/step - loss: 0.1842 - accuracy: 0.9448\n",
            "313/313 [==============================] - 1s 2ms/step - loss: 0.1889 - accuracy: 0.9417\n"
          ]
        },
        {
          "data": {
            "text/plain": [
              "[0.18885114789009094, 0.9416999816894531]"
            ]
          },
          "execution_count": 12,
          "metadata": {},
          "output_type": "execute_result"
        }
      ],
      "source": [
        "aModel= keras.Sequential([\n",
        "    keras.Input(28*28),\n",
        "    keras.layers.Dense(100, activation= 'sigmoid'),    \n",
        "    keras.layers.Dense(10,  activation= 'sigmoid')\n",
        "    ])\n",
        "\n",
        "aModel.compile(\n",
        "    loss=     'sparse_categorical_crossentropy',\n",
        "    metrics= ['accuracy']\n",
        "    )\n",
        "\n",
        "aModel.fit(xr1, yr, \n",
        "           epochs= 10, \n",
        "           batch_size= 100)\n",
        "\n",
        "aModel.evaluate(xt1, yt)"
      ]
    },
    {
      "cell_type": "code",
      "execution_count": null,
      "id": "8a9719cd-be71-4769-be2a-90e07ce7d4ea",
      "metadata": {
        "id": "8a9719cd-be71-4769-be2a-90e07ce7d4ea",
        "outputId": "ef752ded-f718-477d-b45b-31596ccdfef9"
      },
      "outputs": [
        {
          "name": "stdout",
          "output_type": "stream",
          "text": [
            "Epoch 1/10\n",
            "600/600 [==============================] - 2s 3ms/step - loss: 3.7915 - accuracy: 0.8588\n",
            "Epoch 2/10\n",
            "600/600 [==============================] - 2s 3ms/step - loss: 0.5084 - accuracy: 0.9152\n",
            "Epoch 3/10\n",
            "600/600 [==============================] - 2s 3ms/step - loss: 0.3495 - accuracy: 0.9396\n",
            "Epoch 4/10\n",
            "600/600 [==============================] - 2s 3ms/step - loss: 0.2880 - accuracy: 0.9488\n",
            "Epoch 5/10\n",
            "600/600 [==============================] - 2s 3ms/step - loss: 0.2510 - accuracy: 0.9570\n",
            "Epoch 6/10\n",
            "600/600 [==============================] - 2s 4ms/step - loss: 0.2259 - accuracy: 0.9614\n",
            "Epoch 7/10\n",
            "600/600 [==============================] - 2s 3ms/step - loss: 0.2061 - accuracy: 0.9654\n",
            "Epoch 8/10\n",
            "600/600 [==============================] - 2s 3ms/step - loss: 0.1998 - accuracy: 0.9667\n",
            "Epoch 9/10\n",
            "600/600 [==============================] - 2s 3ms/step - loss: 0.1801 - accuracy: 0.9704\n",
            "Epoch 10/10\n",
            "600/600 [==============================] - 2s 3ms/step - loss: 0.1631 - accuracy: 0.9728\n",
            "313/313 [==============================] - 1s 2ms/step - loss: 0.4698 - accuracy: 0.9576\n"
          ]
        },
        {
          "data": {
            "text/plain": [
              "[0.4698459506034851, 0.9575999975204468]"
            ]
          },
          "execution_count": 13,
          "metadata": {},
          "output_type": "execute_result"
        }
      ],
      "source": [
        "aModel= keras.Sequential([\n",
        "    keras.Input(28*28),\n",
        "    keras.layers.Dense(100, activation= 'relu'),    \n",
        "    keras.layers.Dense(10,  activation= 'sigmoid')\n",
        "    ])\n",
        "\n",
        "aModel.compile(\n",
        "    loss=     'sparse_categorical_crossentropy',\n",
        "    metrics= ['accuracy']\n",
        "    )\n",
        "\n",
        "aModel.fit(xr1, yr, \n",
        "           epochs= 10, \n",
        "           batch_size= 100)\n",
        "\n",
        "aModel.evaluate(xt1, yt)"
      ]
    },
    {
      "cell_type": "code",
      "execution_count": null,
      "id": "34818214-d878-4d87-a0f4-f03f6e34f653",
      "metadata": {
        "id": "34818214-d878-4d87-a0f4-f03f6e34f653",
        "outputId": "3fc1ad7b-0e7a-428c-87c6-ac8333b2e6ca"
      },
      "outputs": [
        {
          "name": "stdout",
          "output_type": "stream",
          "text": [
            "Epoch 1/10\n",
            "600/600 [==============================] - 2s 3ms/step - loss: 3.6671 - accuracy: 0.8604\n",
            "Epoch 2/10\n",
            "600/600 [==============================] - 2s 3ms/step - loss: 0.4811 - accuracy: 0.9159\n",
            "Epoch 3/10\n",
            "600/600 [==============================] - 2s 4ms/step - loss: 0.3367 - accuracy: 0.9403\n",
            "Epoch 4/10\n",
            "600/600 [==============================] - 2s 3ms/step - loss: 0.2768 - accuracy: 0.9516\n",
            "Epoch 5/10\n",
            "600/600 [==============================] - 2s 3ms/step - loss: 0.2534 - accuracy: 0.9573\n",
            "Epoch 6/10\n",
            "600/600 [==============================] - 2s 3ms/step - loss: 0.2185 - accuracy: 0.9614\n",
            "Epoch 7/10\n",
            "600/600 [==============================] - 2s 3ms/step - loss: 0.2005 - accuracy: 0.9641\n",
            "Epoch 8/10\n",
            "600/600 [==============================] - 2s 3ms/step - loss: 0.1892 - accuracy: 0.9667\n",
            "Epoch 9/10\n",
            "600/600 [==============================] - 2s 3ms/step - loss: 0.1785 - accuracy: 0.9690\n",
            "Epoch 10/10\n",
            "600/600 [==============================] - 2s 3ms/step - loss: 0.1618 - accuracy: 0.9715\n",
            "313/313 [==============================] - 1s 2ms/step - loss: 0.4748 - accuracy: 0.9570\n"
          ]
        },
        {
          "data": {
            "text/plain": [
              "[0.47481220960617065, 0.9570000171661377]"
            ]
          },
          "execution_count": 14,
          "metadata": {},
          "output_type": "execute_result"
        }
      ],
      "source": [
        "aModel= keras.Sequential([\n",
        "    keras.Input(28*28),\n",
        "    keras.layers.Dense(100, activation= 'relu'),    \n",
        "    keras.layers.Dense(10,  activation= 'softmax')\n",
        "    ])\n",
        "\n",
        "aModel.compile(\n",
        "    loss=     'sparse_categorical_crossentropy',\n",
        "    metrics= ['accuracy']\n",
        "    )\n",
        "\n",
        "aModel.fit(xr1, yr, \n",
        "           epochs= 10, \n",
        "           batch_size= 100)\n",
        "\n",
        "aModel.evaluate(xt1, yt)"
      ]
    },
    {
      "cell_type": "code",
      "execution_count": null,
      "id": "74f3c7bf-a031-4fd7-8456-93373a73bb68",
      "metadata": {
        "id": "74f3c7bf-a031-4fd7-8456-93373a73bb68",
        "outputId": "0fa8103f-b05b-44ad-9049-8147d0573778"
      },
      "outputs": [
        {
          "name": "stdout",
          "output_type": "stream",
          "text": [
            "Epoch 1/10\n",
            "600/600 [==============================] - 2s 3ms/step - loss: 0.3272 - accuracy: 0.9091\n",
            "Epoch 2/10\n",
            "600/600 [==============================] - 2s 3ms/step - loss: 0.1578 - accuracy: 0.9538\n",
            "Epoch 3/10\n",
            "600/600 [==============================] - 2s 3ms/step - loss: 0.1155 - accuracy: 0.9664\n",
            "Epoch 4/10\n",
            "600/600 [==============================] - 2s 3ms/step - loss: 0.0916 - accuracy: 0.9732\n",
            "Epoch 5/10\n",
            "600/600 [==============================] - 2s 3ms/step - loss: 0.0762 - accuracy: 0.9777\n",
            "Epoch 6/10\n",
            "600/600 [==============================] - 2s 3ms/step - loss: 0.0641 - accuracy: 0.9812\n",
            "Epoch 7/10\n",
            "600/600 [==============================] - 2s 3ms/step - loss: 0.0552 - accuracy: 0.9835\n",
            "Epoch 8/10\n",
            "600/600 [==============================] - 2s 3ms/step - loss: 0.0481 - accuracy: 0.9860\n",
            "Epoch 9/10\n",
            "600/600 [==============================] - 2s 3ms/step - loss: 0.0419 - accuracy: 0.9879\n",
            "Epoch 10/10\n",
            "600/600 [==============================] - 2s 4ms/step - loss: 0.0377 - accuracy: 0.9894\n",
            "313/313 [==============================] - 1s 2ms/step - loss: 0.0782 - accuracy: 0.9768\n"
          ]
        },
        {
          "data": {
            "text/plain": [
              "[0.07820436358451843, 0.9768000245094299]"
            ]
          },
          "execution_count": 15,
          "metadata": {},
          "output_type": "execute_result"
        }
      ],
      "source": [
        "xr1= xr.reshape(-1,28*28) /255\n",
        "xt1= xt.reshape(-1,28*28) /255\n",
        "\n",
        "\n",
        "aModel= keras.Sequential([\n",
        "    keras.Input(28*28),\n",
        "    keras.layers.Dense(100, activation= 'relu'),    \n",
        "    keras.layers.Dense(10,  activation= 'softmax')\n",
        "    ])\n",
        "\n",
        "aModel.compile(\n",
        "    loss=     'sparse_categorical_crossentropy',\n",
        "    metrics= ['accuracy']\n",
        "    )\n",
        "\n",
        "aModel.fit(xr1, yr, \n",
        "           epochs= 10, \n",
        "           batch_size= 100)\n",
        "\n",
        "aModel.evaluate(xt1, yt)"
      ]
    },
    {
      "cell_type": "code",
      "execution_count": null,
      "id": "22b7e84f-a229-4e3b-bdd2-a7c7361b126d",
      "metadata": {
        "id": "22b7e84f-a229-4e3b-bdd2-a7c7361b126d",
        "outputId": "3d8a086d-8233-4498-ae30-0e98b1f19a67"
      },
      "outputs": [
        {
          "name": "stdout",
          "output_type": "stream",
          "text": [
            "Epoch 1/10\n",
            "600/600 [==============================] - 2s 3ms/step - loss: 0.2834 - accuracy: 0.9205\n",
            "Epoch 2/10\n",
            "600/600 [==============================] - 2s 3ms/step - loss: 0.1259 - accuracy: 0.9631\n",
            "Epoch 3/10\n",
            "600/600 [==============================] - 2s 3ms/step - loss: 0.0863 - accuracy: 0.9752\n",
            "Epoch 4/10\n",
            "600/600 [==============================] - 2s 3ms/step - loss: 0.0650 - accuracy: 0.9807\n",
            "Epoch 5/10\n",
            "600/600 [==============================] - 2s 3ms/step - loss: 0.0520 - accuracy: 0.9842\n",
            "Epoch 6/10\n",
            "600/600 [==============================] - 2s 3ms/step - loss: 0.0423 - accuracy: 0.9873\n",
            "Epoch 7/10\n",
            "600/600 [==============================] - 2s 3ms/step - loss: 0.0345 - accuracy: 0.9899\n",
            "Epoch 8/10\n",
            "600/600 [==============================] - 2s 3ms/step - loss: 0.0287 - accuracy: 0.9914\n",
            "Epoch 9/10\n",
            "600/600 [==============================] - 2s 3ms/step - loss: 0.0237 - accuracy: 0.9931\n",
            "Epoch 10/10\n",
            "600/600 [==============================] - 2s 3ms/step - loss: 0.0198 - accuracy: 0.9943\n",
            "313/313 [==============================] - 1s 2ms/step - loss: 0.0773 - accuracy: 0.9795\n"
          ]
        },
        {
          "data": {
            "text/plain": [
              "[0.07733511924743652, 0.9794999957084656]"
            ]
          },
          "execution_count": 16,
          "metadata": {},
          "output_type": "execute_result"
        }
      ],
      "source": [
        "aModel= keras.Sequential([\n",
        "    keras.Input(28*28),\n",
        "    keras.layers.Dense(200, activation= 'relu'),    \n",
        "    keras.layers.Dense(10,  activation= 'softmax')\n",
        "    ])\n",
        "\n",
        "aModel.compile(\n",
        "    loss=     'sparse_categorical_crossentropy',\n",
        "    metrics= ['accuracy']\n",
        "    )\n",
        "\n",
        "aModel.fit(xr1, yr, \n",
        "           epochs= 10, \n",
        "           batch_size= 100)\n",
        "\n",
        "aModel.evaluate(xt1, yt)"
      ]
    },
    {
      "cell_type": "code",
      "execution_count": null,
      "id": "5188adb1-dbc2-42af-97ca-297d0c33ae5f",
      "metadata": {
        "id": "5188adb1-dbc2-42af-97ca-297d0c33ae5f",
        "outputId": "34f864e9-2549-4a56-89dd-e8758d8c2280"
      },
      "outputs": [
        {
          "name": "stdout",
          "output_type": "stream",
          "text": [
            "Epoch 1/10\n",
            "600/600 [==============================] - 2s 3ms/step - loss: 0.2992 - accuracy: 0.9144\n",
            "Epoch 2/10\n",
            "600/600 [==============================] - 2s 3ms/step - loss: 0.1275 - accuracy: 0.9621\n",
            "Epoch 3/10\n",
            "600/600 [==============================] - 2s 3ms/step - loss: 0.0896 - accuracy: 0.9730\n",
            "Epoch 4/10\n",
            "600/600 [==============================] - 2s 3ms/step - loss: 0.0695 - accuracy: 0.9781\n",
            "Epoch 5/10\n",
            "600/600 [==============================] - 2s 3ms/step - loss: 0.0563 - accuracy: 0.9826\n",
            "Epoch 6/10\n",
            "600/600 [==============================] - 2s 3ms/step - loss: 0.0469 - accuracy: 0.9856\n",
            "Epoch 7/10\n",
            "600/600 [==============================] - 2s 3ms/step - loss: 0.0386 - accuracy: 0.9881\n",
            "Epoch 8/10\n",
            "600/600 [==============================] - 2s 3ms/step - loss: 0.0330 - accuracy: 0.9897\n",
            "Epoch 9/10\n",
            "600/600 [==============================] - 2s 3ms/step - loss: 0.0271 - accuracy: 0.9915\n",
            "Epoch 10/10\n",
            "600/600 [==============================] - 2s 3ms/step - loss: 0.0236 - accuracy: 0.9929\n",
            "313/313 [==============================] - 1s 2ms/step - loss: 0.0898 - accuracy: 0.9767\n"
          ]
        },
        {
          "data": {
            "text/plain": [
              "[0.08975622057914734, 0.9767000079154968]"
            ]
          },
          "execution_count": 17,
          "metadata": {},
          "output_type": "execute_result"
        }
      ],
      "source": [
        "aModel= keras.Sequential([\n",
        "    keras.Input(28*28),\n",
        "    keras.layers.Dense(100, activation= 'relu'), \n",
        "    keras.layers.Dense(100, activation= 'relu'), \n",
        "    keras.layers.Dense(10,  activation= 'softmax')\n",
        "    ])\n",
        "\n",
        "aModel.compile(\n",
        "    loss=     'sparse_categorical_crossentropy',\n",
        "    metrics= ['accuracy']\n",
        "    )\n",
        "\n",
        "aModel.fit(xr1, yr, \n",
        "           epochs= 10, \n",
        "           batch_size= 100)\n",
        "\n",
        "aModel.evaluate(xt1, yt)"
      ]
    },
    {
      "cell_type": "code",
      "execution_count": null,
      "id": "e86ac3ba-b71d-443e-9b83-219886549875",
      "metadata": {
        "id": "e86ac3ba-b71d-443e-9b83-219886549875",
        "outputId": "a9d4cae8-c7fd-4116-f91e-d66b57599c30"
      },
      "outputs": [
        {
          "name": "stdout",
          "output_type": "stream",
          "text": [
            "Epoch 1/10\n",
            "600/600 [==============================] - 2s 3ms/step - loss: 0.2963 - accuracy: 0.9145\n",
            "Epoch 2/10\n",
            "600/600 [==============================] - 2s 3ms/step - loss: 0.1250 - accuracy: 0.9625\n",
            "Epoch 3/10\n",
            "600/600 [==============================] - 2s 3ms/step - loss: 0.0869 - accuracy: 0.9745\n",
            "Epoch 4/10\n",
            "600/600 [==============================] - 2s 3ms/step - loss: 0.0669 - accuracy: 0.9794\n",
            "Epoch 5/10\n",
            "600/600 [==============================] - 2s 3ms/step - loss: 0.0530 - accuracy: 0.9837\n",
            "Epoch 6/10\n",
            "600/600 [==============================] - 2s 3ms/step - loss: 0.0436 - accuracy: 0.9867\n",
            "Epoch 7/10\n",
            "600/600 [==============================] - 2s 3ms/step - loss: 0.0355 - accuracy: 0.9889\n",
            "Epoch 8/10\n",
            "600/600 [==============================] - 2s 3ms/step - loss: 0.0294 - accuracy: 0.9915\n",
            "Epoch 9/10\n",
            "600/600 [==============================] - 2s 3ms/step - loss: 0.0246 - accuracy: 0.9922\n",
            "Epoch 10/10\n",
            "600/600 [==============================] - 2s 3ms/step - loss: 0.0202 - accuracy: 0.9939\n",
            "313/313 [==============================] - 1s 2ms/step - loss: 0.0751 - accuracy: 0.9817\n"
          ]
        },
        {
          "data": {
            "text/plain": [
              "[0.07507367432117462, 0.9817000031471252]"
            ]
          },
          "execution_count": 18,
          "metadata": {},
          "output_type": "execute_result"
        }
      ],
      "source": [
        "aModel= keras.Sequential([\n",
        "    keras.Input(28*28),\n",
        "    keras.layers.Dense(150, activation= 'relu'), \n",
        "    keras.layers.Dense(50,  activation= 'relu'), \n",
        "    keras.layers.Dense(10,  activation= 'softmax')\n",
        "    ])\n",
        "\n",
        "aModel.compile(\n",
        "    loss=     'sparse_categorical_crossentropy',\n",
        "    metrics= ['accuracy']\n",
        "    )\n",
        "\n",
        "aModel.fit(xr1, yr, \n",
        "           epochs= 10, \n",
        "           batch_size= 100)\n",
        "\n",
        "aModel.evaluate(xt1, yt)"
      ]
    },
    {
      "cell_type": "code",
      "execution_count": null,
      "id": "c2b2e1b9-b82c-4600-9fc4-9b03e513ea82",
      "metadata": {
        "id": "c2b2e1b9-b82c-4600-9fc4-9b03e513ea82",
        "outputId": "1882b747-be4f-47c8-d36b-56a05cd604c6"
      },
      "outputs": [
        {
          "name": "stdout",
          "output_type": "stream",
          "text": [
            "Model: \"sequential_8\"\n",
            "_________________________________________________________________\n",
            " Layer (type)                Output Shape              Param #   \n",
            "=================================================================\n",
            " dense_17 (Dense)            (None, 150)               117750    \n",
            "                                                                 \n",
            " dense_18 (Dense)            (None, 50)                7550      \n",
            "                                                                 \n",
            " dense_19 (Dense)            (None, 10)                510       \n",
            "                                                                 \n",
            "=================================================================\n",
            "Total params: 125,810\n",
            "Trainable params: 125,810\n",
            "Non-trainable params: 0\n",
            "_________________________________________________________________\n"
          ]
        },
        {
          "data": {
            "image/png": "[encoded data removed]",
            "text/plain": [
              "<IPython.core.display.Image object>"
            ]
          },
          "execution_count": 19,
          "metadata": {},
          "output_type": "execute_result"
        }
      ],
      "source": [
        "aModel.summary()\n",
        "\n",
        "keras.utils.plot_model(aModel, \n",
        "    show_shapes= True, \n",
        "    show_layer_activations= True)"
      ]
    },
    {
      "cell_type": "markdown",
      "id": "8b4ee66f-1d7c-4cf2-bc53-6107399974b9",
      "metadata": {
        "id": "8b4ee66f-1d7c-4cf2-bc53-6107399974b9"
      },
      "source": [
        "\n"
      ]
    },
    {
      "cell_type": "code",
      "execution_count": null,
      "id": "41d802a2-1411-4e0f-b9e3-8aaba68b5323",
      "metadata": {
        "id": "41d802a2-1411-4e0f-b9e3-8aaba68b5323"
      },
      "outputs": [],
      "source": []
    },
    {
      "cell_type": "code",
      "execution_count": null,
      "id": "94d687ab-36e6-4c47-b181-0ced7cc1fabc",
      "metadata": {
        "id": "94d687ab-36e6-4c47-b181-0ced7cc1fabc"
      },
      "outputs": [],
      "source": []
    },
    {
      "cell_type": "code",
      "execution_count": null,
      "id": "8b26b3a7-bbf2-45b2-966c-328008118f64",
      "metadata": {
        "id": "8b26b3a7-bbf2-45b2-966c-328008118f64"
      },
      "outputs": [],
      "source": []
    }
  ],
  "metadata": {
    "kernelspec": {
      "display_name": "Python 3 (ipykernel)",
      "language": "python",
      "name": "python3"
    },
    "language_info": {
      "codemirror_mode": {
        "name": "ipython",
        "version": 3
      },
      "file_extension": ".py",
      "mimetype": "text/x-python",
      "name": "python",
      "nbconvert_exporter": "python",
      "pygments_lexer": "ipython3",
      "version": "3.9.12"
    },
    "colab": {
      "provenance": []
    }
  },
  "nbformat": 4,
  "nbformat_minor": 5
}